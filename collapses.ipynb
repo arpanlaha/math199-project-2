{
 "cells": [
  {
   "cell_type": "code",
   "execution_count": null,
   "metadata": {},
   "outputs": [],
   "source": [
    "import numpy as np\n",
    "import pandas as pd\n",
    "import sys\n",
    "from scipy.special import comb\n",
    "\n",
    "NBA_YEARS = range(1950, 2021)"
    "MLB_YEARS = range(1903, 2019)"
   ]
  },
  {
   "cell_type": "code",
   "execution_count": null,
   "metadata": {},
   "outputs": [],
   "source": [
    "def generate_collapse_scores_by_year(league, year, flat=True):\n",
    "    df = pd.read_csv(\"data/\" + league + \"/\" + str(year) + \".csv\")\n",
    "    \n",
    "    season = {}\n",
    "    \n",
    "    for index, row in df.iterrows():\n",
    "        home_team = row[\"home_team\"]\n",
    "        away_team = row[\"away_team\"]\n",
    "        home_win = row[\"home_team_score\"] > row[\"away_team_score\"]\n",
    "               \n",
    "        season[home_team] = np.append(season.get(home_team, np.array([])), home_win)\n",
    "        season[away_team] = np.append(season.get(away_team, np.array([])), not home_win)\n",
    "        \n",
    "    # remove playoffs by finding minimum games played and only retaining those    \n",
    "    \n",
    "    regular_season_length = sys.maxsize\n",
    "    \n",
    "    for team in season:\n",
    "        num_team_games = len(season[team])\n",
    "        if num_team_games < regular_season_length:\n",
    "            regular_season_length = num_team_games\n",
    "            \n",
    "    for team in season:\n",
    "        season[team] = season[team][:regular_season_length]\n",
    "        \n",
    "    season_end_length = 10 if flat else round(regular_season_length / 2)\n",
    "        \n",
    "    # calculate collapse scores    \n",
    "        \n",
    "    collapse_scores = {}\n",
    "    \n",
    "    for team in season:\n",
    "        games = season[team]\n",
    "        \n",
    "        win_pct = np.sum(games) / len(games)\n",
    "        season_end_wins = int(np.sum(games[-season_end_length:]))\n",
    "        \n",
    "        probability = 0\n",
    "        \n",
    "        for wins in range(0, season_end_wins + 1):\n",
    "            temp = comb(season_end_length, wins) * win_pct ** wins * (1 - win_pct) ** (season_end_length - wins)\n",
    "            probability += temp\n",
    "            \n",
    "        collapse_scores[team] = 1 / probability\n",
    "        \n",
    "    return collapse_scores\n",
    "\n",
    "def generate_collapse_scores(league, years):\n",
    "    collapse_scores = {}\n",
    "    \n",
    "    for year in years:\n",
    "        year_collapse_scores = generate_collapse_scores_by_year(league, year)\n",
    "        \n",
    "        for team in year_collapse_scores:\n",
    "            collapse_scores[team] = np.append(collapse_scores.get(team, np.array([])), year_collapse_scores[team])\n",
    "            \n",
    "    return collapse_scores"
   ]
  },
  {
   "cell_type": "code",
   "execution_count": null,
   "metadata": {},
   "outputs": [],
   "source": [
    "generate_collapse_scores(\"nba\", NBA_YEARS)"
   ]
  },
  {
   "cell_type": "code",
   "execution_count": null,
   "metadata": {},
   "outputs": [],
   "source": []
  }
 ],
 "metadata": {
  "kernelspec": {
   "display_name": "Python 3",
   "language": "python",
   "name": "python3"
  },
  "language_info": {
   "codemirror_mode": {
    "name": "ipython",
    "version": 3
   },
   "file_extension": ".py",
   "mimetype": "text/x-python",
   "name": "python",
   "nbconvert_exporter": "python",
   "pygments_lexer": "ipython3",
   "version": "3.6.9"
  }
 },
 "nbformat": 4,
 "nbformat_minor": 4
}
